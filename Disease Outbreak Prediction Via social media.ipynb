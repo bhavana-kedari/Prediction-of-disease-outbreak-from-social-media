{
 "cells": [
  {
   "cell_type": "markdown",
   "id": "359436d4",
   "metadata": {},
   "source": [
    "# DISEASE OUTBREAK PREDICTION"
   ]
  },
  {
   "cell_type": "markdown",
   "id": "23f904a1",
   "metadata": {},
   "source": [
    "importing necessary libraries"
   ]
  },
  {
   "cell_type": "code",
   "execution_count": null,
   "id": "db4ac024",
   "metadata": {},
   "outputs": [],
   "source": [
    "# importing necessary libraries\n",
    "import pandas as pd\n",
    "import numpy as np\n",
    "import matplotlib.pyplot as plt\n",
    "import dask.dataframe as dd # parallel processing for pandas (to read large datasets) fixed memory issue\n",
    "import nltk\n",
    "from nltk.corpus import stopwords\n",
    "from nltk.stem import WordNetLemmatizer\n",
    "import re\n",
    "from datetime import datetime, timezone\n",
    "nltk.download('wordnet')"
   ]
  },
  {
   "cell_type": "markdown",
   "id": "7e25c7ce",
   "metadata": {},
   "source": [
    "Reading Datasets"
   ]
  },
  {
   "cell_type": "code",
   "execution_count": 2,
   "id": "2e7b7a79",
   "metadata": {},
   "outputs": [],
   "source": [
    "# reading comments dataset (do not have enough computational power and memory space to read the entire dataset)\n",
    "data_comments = pd.read_csv('C:\\\\Users\\\\kedar\\\\OneDrive\\\\Desktop\\\\ML mini project\\\\DiseaseOutbreak_Dataset\\\\the-reddit-covid-dataset-comments.csv', nrows=1000000)"
   ]
  },
  {
   "cell_type": "code",
   "execution_count": 3,
   "id": "3745df85",
   "metadata": {
    "scrolled": true
   },
   "outputs": [
    {
     "data": {
      "text/html": [
       "<div>\n",
       "<style scoped>\n",
       "    .dataframe tbody tr th:only-of-type {\n",
       "        vertical-align: middle;\n",
       "    }\n",
       "\n",
       "    .dataframe tbody tr th {\n",
       "        vertical-align: top;\n",
       "    }\n",
       "\n",
       "    .dataframe thead th {\n",
       "        text-align: right;\n",
       "    }\n",
       "</style>\n",
       "<table border=\"1\" class=\"dataframe\">\n",
       "  <thead>\n",
       "    <tr style=\"text-align: right;\">\n",
       "      <th></th>\n",
       "      <th>type</th>\n",
       "      <th>id</th>\n",
       "      <th>subreddit.id</th>\n",
       "      <th>subreddit.name</th>\n",
       "      <th>subreddit.nsfw</th>\n",
       "      <th>created_utc</th>\n",
       "      <th>permalink</th>\n",
       "      <th>body</th>\n",
       "      <th>sentiment</th>\n",
       "      <th>score</th>\n",
       "    </tr>\n",
       "  </thead>\n",
       "  <tbody>\n",
       "    <tr>\n",
       "      <th>0</th>\n",
       "      <td>comment</td>\n",
       "      <td>hi1vsag</td>\n",
       "      <td>2riyy</td>\n",
       "      <td>nova</td>\n",
       "      <td>False</td>\n",
       "      <td>1635206399</td>\n",
       "      <td>https://old.reddit.com/r/nova/comments/qfs53d/...</td>\n",
       "      <td>When you scheduled your booster with CVS does ...</td>\n",
       "      <td>0.0000</td>\n",
       "      <td>2</td>\n",
       "    </tr>\n",
       "    <tr>\n",
       "      <th>1</th>\n",
       "      <td>comment</td>\n",
       "      <td>hi1vs7i</td>\n",
       "      <td>2qhov</td>\n",
       "      <td>vancouver</td>\n",
       "      <td>False</td>\n",
       "      <td>1635206397</td>\n",
       "      <td>https://old.reddit.com/r/vancouver/comments/qf...</td>\n",
       "      <td>Didn't stop prices there though. New Zealand a...</td>\n",
       "      <td>0.1887</td>\n",
       "      <td>32</td>\n",
       "    </tr>\n",
       "    <tr>\n",
       "      <th>2</th>\n",
       "      <td>comment</td>\n",
       "      <td>hi1vs5n</td>\n",
       "      <td>2qwzb</td>\n",
       "      <td>pregnant</td>\n",
       "      <td>False</td>\n",
       "      <td>1635206397</td>\n",
       "      <td>https://old.reddit.com/r/pregnant/comments/qfs...</td>\n",
       "      <td>I’m just waiting until after pregnancy to get ...</td>\n",
       "      <td>0.6720</td>\n",
       "      <td>1</td>\n",
       "    </tr>\n",
       "    <tr>\n",
       "      <th>3</th>\n",
       "      <td>comment</td>\n",
       "      <td>hi1vs5v</td>\n",
       "      <td>2qixm</td>\n",
       "      <td>startrek</td>\n",
       "      <td>False</td>\n",
       "      <td>1635206397</td>\n",
       "      <td>https://old.reddit.com/r/startrek/comments/qft...</td>\n",
       "      <td>*The first duty of every Starfleet officer is ...</td>\n",
       "      <td>0.9562</td>\n",
       "      <td>1</td>\n",
       "    </tr>\n",
       "    <tr>\n",
       "      <th>4</th>\n",
       "      <td>comment</td>\n",
       "      <td>hi1vs0l</td>\n",
       "      <td>2qsf3</td>\n",
       "      <td>ontario</td>\n",
       "      <td>False</td>\n",
       "      <td>1635206395</td>\n",
       "      <td>https://old.reddit.com/r/ontario/comments/qfkj...</td>\n",
       "      <td>Compare BC to Ontario for COVID. It's even mor...</td>\n",
       "      <td>0.0000</td>\n",
       "      <td>-2</td>\n",
       "    </tr>\n",
       "  </tbody>\n",
       "</table>\n",
       "</div>"
      ],
      "text/plain": [
       "      type       id subreddit.id subreddit.name  subreddit.nsfw  created_utc  \\\n",
       "0  comment  hi1vsag        2riyy           nova           False   1635206399   \n",
       "1  comment  hi1vs7i        2qhov      vancouver           False   1635206397   \n",
       "2  comment  hi1vs5n        2qwzb       pregnant           False   1635206397   \n",
       "3  comment  hi1vs5v        2qixm       startrek           False   1635206397   \n",
       "4  comment  hi1vs0l        2qsf3        ontario           False   1635206395   \n",
       "\n",
       "                                           permalink  \\\n",
       "0  https://old.reddit.com/r/nova/comments/qfs53d/...   \n",
       "1  https://old.reddit.com/r/vancouver/comments/qf...   \n",
       "2  https://old.reddit.com/r/pregnant/comments/qfs...   \n",
       "3  https://old.reddit.com/r/startrek/comments/qft...   \n",
       "4  https://old.reddit.com/r/ontario/comments/qfkj...   \n",
       "\n",
       "                                                body  sentiment  score  \n",
       "0  When you scheduled your booster with CVS does ...     0.0000      2  \n",
       "1  Didn't stop prices there though. New Zealand a...     0.1887     32  \n",
       "2  I’m just waiting until after pregnancy to get ...     0.6720      1  \n",
       "3  *The first duty of every Starfleet officer is ...     0.9562      1  \n",
       "4  Compare BC to Ontario for COVID. It's even mor...     0.0000     -2  "
      ]
     },
     "execution_count": 3,
     "metadata": {},
     "output_type": "execute_result"
    }
   ],
   "source": [
    "#checking whether the data loaded\n",
    "data_comments.head()"
   ]
  },
  {
   "cell_type": "code",
   "execution_count": 4,
   "id": "2fdf84a6",
   "metadata": {},
   "outputs": [],
   "source": [
    "# reading posts dataset\n",
    "data_posts = pd.read_csv('C:\\\\Users\\\\kedar\\\\OneDrive\\\\Desktop\\\\ML mini project\\\\DiseaseOutbreak_Dataset\\\\the-reddit-covid-dataset-posts.csv',nrows=1000000)"
   ]
  },
  {
   "cell_type": "code",
   "execution_count": 5,
   "id": "19e96af5",
   "metadata": {
    "scrolled": false
   },
   "outputs": [
    {
     "data": {
      "text/html": [
       "<div>\n",
       "<style scoped>\n",
       "    .dataframe tbody tr th:only-of-type {\n",
       "        vertical-align: middle;\n",
       "    }\n",
       "\n",
       "    .dataframe tbody tr th {\n",
       "        vertical-align: top;\n",
       "    }\n",
       "\n",
       "    .dataframe thead th {\n",
       "        text-align: right;\n",
       "    }\n",
       "</style>\n",
       "<table border=\"1\" class=\"dataframe\">\n",
       "  <thead>\n",
       "    <tr style=\"text-align: right;\">\n",
       "      <th></th>\n",
       "      <th>type</th>\n",
       "      <th>id</th>\n",
       "      <th>subreddit.id</th>\n",
       "      <th>subreddit.name</th>\n",
       "      <th>subreddit.nsfw</th>\n",
       "      <th>created_utc</th>\n",
       "      <th>permalink</th>\n",
       "      <th>domain</th>\n",
       "      <th>url</th>\n",
       "      <th>selftext</th>\n",
       "      <th>title</th>\n",
       "      <th>score</th>\n",
       "    </tr>\n",
       "  </thead>\n",
       "  <tbody>\n",
       "    <tr>\n",
       "      <th>0</th>\n",
       "      <td>post</td>\n",
       "      <td>qftvfn</td>\n",
       "      <td>3h9d4</td>\n",
       "      <td>autonewspaper</td>\n",
       "      <td>False</td>\n",
       "      <td>1635206379</td>\n",
       "      <td>https://old.reddit.com/r/AutoNewspaper/comment...</td>\n",
       "      <td>washingtontimes.com</td>\n",
       "      <td>https://www.washingtontimes.com/news/2021/oct/...</td>\n",
       "      <td>NaN</td>\n",
       "      <td>[Politics] - Kay Ivey, Alabama governor, direc...</td>\n",
       "      <td>1</td>\n",
       "    </tr>\n",
       "    <tr>\n",
       "      <th>1</th>\n",
       "      <td>post</td>\n",
       "      <td>qftusg</td>\n",
       "      <td>2x4yx</td>\n",
       "      <td>coronavirus</td>\n",
       "      <td>False</td>\n",
       "      <td>1635206322</td>\n",
       "      <td>https://old.reddit.com/r/Coronavirus/comments/...</td>\n",
       "      <td>twitter.com</td>\n",
       "      <td>NaN</td>\n",
       "      <td>[deleted]</td>\n",
       "      <td>More Floridians dead from COVID than Vietnam W...</td>\n",
       "      <td>1</td>\n",
       "    </tr>\n",
       "    <tr>\n",
       "      <th>2</th>\n",
       "      <td>post</td>\n",
       "      <td>qftugv</td>\n",
       "      <td>3h9d4</td>\n",
       "      <td>autonewspaper</td>\n",
       "      <td>False</td>\n",
       "      <td>1635206292</td>\n",
       "      <td>https://old.reddit.com/r/AutoNewspaper/comment...</td>\n",
       "      <td>nzherald.co.nz</td>\n",
       "      <td>https://www.nzherald.co.nz/nz/news/article.cfm...</td>\n",
       "      <td>NaN</td>\n",
       "      <td>[NZ] - Covid-19 coronavirus Delta outbreak: La...</td>\n",
       "      <td>1</td>\n",
       "    </tr>\n",
       "    <tr>\n",
       "      <th>3</th>\n",
       "      <td>post</td>\n",
       "      <td>qftuge</td>\n",
       "      <td>3h9d4</td>\n",
       "      <td>autonewspaper</td>\n",
       "      <td>False</td>\n",
       "      <td>1635206291</td>\n",
       "      <td>https://old.reddit.com/r/AutoNewspaper/comment...</td>\n",
       "      <td>nzherald.co.nz</td>\n",
       "      <td>https://www.nzherald.co.nz/nz/news/article.cfm...</td>\n",
       "      <td>NaN</td>\n",
       "      <td>[NZ] - Covid 19 Delta outbreak: Man arrested a...</td>\n",
       "      <td>1</td>\n",
       "    </tr>\n",
       "    <tr>\n",
       "      <th>4</th>\n",
       "      <td>post</td>\n",
       "      <td>qftucd</td>\n",
       "      <td>4egz78</td>\n",
       "      <td>cointuta</td>\n",
       "      <td>False</td>\n",
       "      <td>1635206281</td>\n",
       "      <td>https://old.reddit.com/r/CoinTuta/comments/qft...</td>\n",
       "      <td>cointuta.com</td>\n",
       "      <td>https://www.cointuta.com/covid-19-more-likely-...</td>\n",
       "      <td>NaN</td>\n",
       "      <td>Covid-19 more likely to cause neurological iss...</td>\n",
       "      <td>1</td>\n",
       "    </tr>\n",
       "  </tbody>\n",
       "</table>\n",
       "</div>"
      ],
      "text/plain": [
       "   type      id subreddit.id subreddit.name  subreddit.nsfw  created_utc  \\\n",
       "0  post  qftvfn        3h9d4  autonewspaper           False   1635206379   \n",
       "1  post  qftusg        2x4yx    coronavirus           False   1635206322   \n",
       "2  post  qftugv        3h9d4  autonewspaper           False   1635206292   \n",
       "3  post  qftuge        3h9d4  autonewspaper           False   1635206291   \n",
       "4  post  qftucd       4egz78       cointuta           False   1635206281   \n",
       "\n",
       "                                           permalink               domain  \\\n",
       "0  https://old.reddit.com/r/AutoNewspaper/comment...  washingtontimes.com   \n",
       "1  https://old.reddit.com/r/Coronavirus/comments/...          twitter.com   \n",
       "2  https://old.reddit.com/r/AutoNewspaper/comment...       nzherald.co.nz   \n",
       "3  https://old.reddit.com/r/AutoNewspaper/comment...       nzherald.co.nz   \n",
       "4  https://old.reddit.com/r/CoinTuta/comments/qft...         cointuta.com   \n",
       "\n",
       "                                                 url   selftext  \\\n",
       "0  https://www.washingtontimes.com/news/2021/oct/...        NaN   \n",
       "1                                                NaN  [deleted]   \n",
       "2  https://www.nzherald.co.nz/nz/news/article.cfm...        NaN   \n",
       "3  https://www.nzherald.co.nz/nz/news/article.cfm...        NaN   \n",
       "4  https://www.cointuta.com/covid-19-more-likely-...        NaN   \n",
       "\n",
       "                                               title  score  \n",
       "0  [Politics] - Kay Ivey, Alabama governor, direc...      1  \n",
       "1  More Floridians dead from COVID than Vietnam W...      1  \n",
       "2  [NZ] - Covid-19 coronavirus Delta outbreak: La...      1  \n",
       "3  [NZ] - Covid 19 Delta outbreak: Man arrested a...      1  \n",
       "4  Covid-19 more likely to cause neurological iss...      1  "
      ]
     },
     "execution_count": 5,
     "metadata": {},
     "output_type": "execute_result"
    }
   ],
   "source": [
    "# checking whetehr the dataset is loaded\n",
    "data_posts.head()"
   ]
  },
  {
   "cell_type": "markdown",
   "id": "0c8d9bd0",
   "metadata": {},
   "source": [
    "Data Preprocessing"
   ]
  },
  {
   "cell_type": "code",
   "execution_count": 8,
   "id": "f8675247",
   "metadata": {},
   "outputs": [
    {
     "name": "stdout",
     "output_type": "stream",
     "text": [
      "Nan values in column of Comments dataset:  type                  0\n",
      "id                    0\n",
      "subreddit.id          0\n",
      "subreddit.name        0\n",
      "subreddit.nsfw        0\n",
      "created_utc           0\n",
      "permalink             0\n",
      "body                  0\n",
      "sentiment         37937\n",
      "score                 0\n",
      "dtype: int64\n",
      "Nan values in each column of Posts dataset:  type                   0\n",
      "id                     0\n",
      "subreddit.id           0\n",
      "subreddit.name         0\n",
      "subreddit.nsfw         0\n",
      "created_utc            0\n",
      "permalink              0\n",
      "domain                 4\n",
      "url               257459\n",
      "selftext          742541\n",
      "title                  0\n",
      "score                  0\n",
      "dtype: int64\n"
     ]
    }
   ],
   "source": [
    "# analysing missing values\n",
    "nan_comments = data_comments.isna().sum()\n",
    "nan_posts = data_posts.isna().sum()\n",
    "print('Nan values in column of Comments dataset: ',nan_comments)\n",
    "print('Nan values in each column of Posts dataset: ',nan_posts)"
   ]
  },
  {
   "cell_type": "code",
   "execution_count": 9,
   "id": "b63f9353",
   "metadata": {},
   "outputs": [],
   "source": [
    "# lots of missing values in comments dataset - sentiment column\n",
    "# lots of missing values in posts dataset - url and selftext columns\n",
    "# dropping these columns\n",
    "data_comments = data_comments.drop(columns = 'sentiment')\n",
    "data_posts = data_posts.drop(columns = ['url','selftext'])"
   ]
  },
  {
   "cell_type": "code",
   "execution_count": 10,
   "id": "98700ce2",
   "metadata": {},
   "outputs": [
    {
     "name": "stdout",
     "output_type": "stream",
     "text": [
      "Columns in comments dataset:  Index(['type', 'id', 'subreddit.id', 'subreddit.name', 'subreddit.nsfw',\n",
      "       'created_utc', 'permalink', 'body', 'score'],\n",
      "      dtype='object')\n",
      "Columns in posts dataset:  Index(['type', 'id', 'subreddit.id', 'subreddit.name', 'subreddit.nsfw',\n",
      "       'created_utc', 'permalink', 'domain', 'title', 'score'],\n",
      "      dtype='object')\n",
      "Nan values in column of Comments dataset:  type              0\n",
      "id                0\n",
      "subreddit.id      0\n",
      "subreddit.name    0\n",
      "subreddit.nsfw    0\n",
      "created_utc       0\n",
      "permalink         0\n",
      "body              0\n",
      "score             0\n",
      "dtype: int64\n",
      "Nan values in each column of Posts dataset:  type              0\n",
      "id                0\n",
      "subreddit.id      0\n",
      "subreddit.name    0\n",
      "subreddit.nsfw    0\n",
      "created_utc       0\n",
      "permalink         0\n",
      "domain            0\n",
      "title             0\n",
      "score             0\n",
      "dtype: int64\n"
     ]
    }
   ],
   "source": [
    "# checking if chenges were made\n",
    "print('Columns in comments dataset: ',data_comments.columns)\n",
    "print('Columns in posts dataset: ',data_posts.columns)\n",
    "\n",
    "# since domain has missing values filling nan values with most frequently occuring value\n",
    "data_posts['domain'].fillna(data_posts['domain'].mode()[0], inplace=True)\n",
    "\n",
    "# re-analysing missing values\n",
    "nan_comments = data_comments.isna().sum()\n",
    "nan_posts = data_posts.isna().sum()\n",
    "print('Nan values in column of Comments dataset: ',nan_comments)\n",
    "print('Nan values in each column of Posts dataset: ',nan_posts)"
   ]
  },
  {
   "cell_type": "code",
   "execution_count": 11,
   "id": "1798f9f3",
   "metadata": {},
   "outputs": [],
   "source": [
    "# converting all utc objects to date-time objects\n",
    "data_comments['created_utc'] = pd.to_datetime(data_comments['created_utc'], unit='s', utc=True)\n",
    "data_posts['created_utc'] = pd.to_datetime(data_posts['created_utc'], unit='s', utc=True)"
   ]
  },
  {
   "cell_type": "code",
   "execution_count": 12,
   "id": "539f43e5",
   "metadata": {},
   "outputs": [
    {
     "name": "stdout",
     "output_type": "stream",
     "text": [
      "datatype of creted utc column in comments dataset:  datetime64[ns, UTC]\n",
      "datatype of creted utc column in posts dataset:  datetime64[ns, UTC]\n"
     ]
    }
   ],
   "source": [
    "# checking \n",
    "print('datatype of creted utc column in comments dataset: ',data_comments['created_utc'].dtype)\n",
    "print('datatype of creted utc column in posts dataset: ',data_posts['created_utc'].dtype)"
   ]
  },
  {
   "cell_type": "code",
   "execution_count": 21,
   "id": "5afd6850",
   "metadata": {},
   "outputs": [],
   "source": [
    "# checking for duplicate values in the column 'subreddit.id' since no two subreddits can have the same values\n",
    "\n",
    "# Check for duplicated values in 'subreddit.id' and 'body'\n",
    "duplicates_comments = data_comments[data_comments.duplicated(subset=['subreddit.id', 'body'], keep=False)]\n",
    "\n",
    "# Keeping only the first occurrence of each unique combination of 'subreddit.id' and 'body'\n",
    "data_comments = data_comments[duplicates_comments != True]"
   ]
  },
  {
   "cell_type": "code",
   "execution_count": 23,
   "id": "760b41b4",
   "metadata": {},
   "outputs": [],
   "source": [
    "# checking for duplicate values in the column 'subreddit.id' since no two subreddits can have the same values\n",
    "# Check for duplicated values in 'subreddit.id' and 'body'\n",
    "duplicates_posts = data_posts[data_posts.duplicated(subset=['subreddit.id', 'title'], keep=False)]\n",
    "\n",
    "# Keeping only the first occurrence of each unique combination of 'subreddit.id' and 'body'\n",
    "data_posts = data_posts[duplicates_posts != True]"
   ]
  },
  {
   "cell_type": "code",
   "execution_count": null,
   "id": "84031a01",
   "metadata": {},
   "outputs": [],
   "source": [
    "https://abhishek-maheshwarappa.medium.com/installing-cuda-for-nvidia-gpu-and-cudnn-on-windows-10-f03e6e82f265"
   ]
  }
 ],
 "metadata": {
  "kernelspec": {
   "display_name": "Python 3 (ipykernel)",
   "language": "python",
   "name": "python3"
  },
  "language_info": {
   "codemirror_mode": {
    "name": "ipython",
    "version": 3
   },
   "file_extension": ".py",
   "mimetype": "text/x-python",
   "name": "python",
   "nbconvert_exporter": "python",
   "pygments_lexer": "ipython3",
   "version": "3.10.1"
  }
 },
 "nbformat": 4,
 "nbformat_minor": 5
}
